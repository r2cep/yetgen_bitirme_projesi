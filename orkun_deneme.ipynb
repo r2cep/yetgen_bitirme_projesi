{
 "cells": [
  {
   "cell_type": "code",
   "execution_count": null,
   "metadata": {},
   "outputs": [],
   "source": [
    "import pandas as pd\n",
    "from sklearn.feature_extraction.text import TfidfVectorizer\n",
    "from sklearn.metrics.pairwise import cosine_similarity\n",
    "class RecipeRecommender:\n",
    "    \n",
    "    def __init__(self, ingreditans = [], sıradaki_besli = [0,5],):\n",
    "        self.vectorizer = TfidfVectorizer(stop_words='english')\n",
    "        self.sırdaki_besli = sıradaki_besli\n",
    "        self.ingreditans = ingreditans if ingreditans is not None else []\n",
    "        self.df = pd.read_csv(\"RAW_recipes.csv\")\n",
    "    \n",
    "    def benzer_yemekler(self):\n",
    "        df = pd.read_csv(\"RAW_recipes.csv\")\n",
    "        tfidf = TfidfVectorizer()\n",
    "        malzemeler_str = \" \".join(self.ingreditans)\n",
    "        malzemeler_vektoru = tfidf.fit_transform([malzemeler_str])\n",
    "        cosbenzerlik = cosine_similarity(malzemeler_vektoru, tfidf.transform(self.df[\"ingredients\"]))\n",
    "        self.df[\"cosbenzerlik\"] = cosbenzerlik[0]\n",
    "        self.df = df.sort_values(by=\"cosbenzerlik\", ascending=False)\n",
    "        \n",
    "    def sıradaki_yemekler(self):\n",
    "        benzer_yemekler = df[self.sırdaki_besli[0]:self.sırdaki_besli[1]]\n",
    "        while True:\n",
    "            devam_mı = input(\"çıkış için : q, sırdaki beşli için 1\")\n",
    "            if devam_mı == 1:\n",
    "                self.sırdaki_besli[0] +=5\n",
    "                self.sırdaki_besli[1] +=5\n",
    "                return benzer_yemekler\n",
    "            else:\n",
    "                break\n",
    "    def içindekiler(self,yeni_yemek):\n",
    "        self.ingreditans.append(yeni_yemek)\n",
    "\n",
    "yemek = RecipeRecommender()\n",
    "while True:\n",
    "    islem = input(\"işlem seçiniz\")\n",
    "    if islem == \"q\":\n",
    "        print(\"işlem sonlandırılıyore...\")\n",
    "        break\n",
    "    elif islem == \"1\":\n",
    "        yemek.içindekiler()\n",
    "    elif islem == \"4\":\n",
    "        yemek_ismi = input(\"yemek ismi giriniz\")\n",
    "        yemek_listesi = yemek_ismi.split(\",\")\n",
    "        for i in yemek_listesi:\n",
    "            yemek.içindekiler(i)\n"
   ]
  },
  {
   "attachments": {},
   "cell_type": "markdown",
   "metadata": {},
   "source": [
    "## ANA KOD"
   ]
  },
  {
   "cell_type": "code",
   "execution_count": null,
   "metadata": {},
   "outputs": [],
   "source": [
    "import sqlite3\n",
    "\n",
    "# veritabanı bağlantısı oluştur\n",
    "conn = sqlite3.connect('yemekler.db')\n",
    "\n",
    "# yemekler tablosunu oluştur\n",
    "conn.execute('''CREATE TABLE yemekler\n",
    "                (id INTEGER PRIMARY KEY,\n",
    "                isim TEXT NOT NULL,\n",
    "                malzemeler TEXT NOT NULL,\n",
    "                tarif TEXT NOT NULL);''')\n",
    "\n",
    "# veritabanını kaydet ve bağlantıyı kapat\n",
    "conn.commit()\n",
    "conn.close()"
   ]
  },
  {
   "cell_type": "code",
   "execution_count": null,
   "metadata": {},
   "outputs": [],
   "source": [
    "import sqlite3\n",
    "\n",
    "# veritabanı bağlantısı oluştur\n",
    "conn = sqlite3.connect('yemekler.db')\n",
    "\n",
    "# kullanıcının malzemelerini girdiği bir liste oluştur\n",
    "malzemeler = []\n",
    "while True:\n",
    "    malzeme = input(\"Elimizde hangi malzemeler var? (Çıkmak için 'q' tuşuna basın)\\n\")\n",
    "    if malzeme == 'q':\n",
    "        break\n",
    "    malzemeler.append(malzeme)\n",
    "\n",
    "# uygun tarifleri seç\n",
    "cur = conn.cursor()\n",
    "cur.execute(\"SELECT isim, malzemeler, tarif FROM yemekler\")\n",
    "rows = cur.fetchall()\n",
    "\n",
    "uygun_tarifler = []\n",
    "for row in rows:\n",
    "    tarif_malzemeleri = row[1].split(\", \")\n",
    "    if set(tarif_malzemeleri).issubset(malzemeler):\n",
    "        uygun_tarifler.append(row)\n",
    "\n",
    "# uygun tarifleri ekrana yazdır\n",
    "if uygun_tarifler:\n",
    "    for tarif in uygun_tarifler:\n",
    "        print(\"Tarif Adı:\", tarif[0])\n",
    "        print(\"Malzemeler:\", tarif[1])\n",
    "        print(\"Tarif:\", tarif[2])\n",
    "        print()\n",
    "else:\n",
    "    print(\"Elimizdeki malzemelerle uygun bir tarif bulunamadı.\")\n",
    "\n",
    "# veritabanı bağlantısını kapat\n",
    "conn.close()\n"
   ]
  },
  {
   "cell_type": "markdown",
   "metadata": {},
   "source": []
  },
  {
   "attachments": {},
   "cell_type": "markdown",
   "metadata": {},
   "source": [
    "## YEMEK EKLEME"
   ]
  },
  {
   "cell_type": "code",
   "execution_count": null,
   "metadata": {},
   "outputs": [],
   "source": [
    "\n",
    "import sqlite3\n",
    "\n",
    "# veritabanı bağlantısı oluştur\n",
    "conn = sqlite3.connect('yemekler.db')\n",
    "\n",
    "# kullanıcıdan yeni yemek bilgilerini al\n",
    "isim = input(\"Yeni yemek adı: \")\n",
    "malzemeler = input(\"Malzemeler (virgülle ayrılmış): \")\n",
    "tarif = input(\"Tarif: \")\n",
    "\n",
    "# veritabanına yeni yemek kaydı ekle\n",
    "conn.execute(\"INSERT INTO yemekler (isim, malzemeler, tarif) VALUES (?, ?, ?)\",\n",
    "             (isim, malzemeler, tarif))\n",
    "\n",
    "# veritabanını kaydet ve bağlantıyı kapat\n",
    "conn.commit()\n",
    "conn.close()"
   ]
  },
  {
   "attachments": {},
   "cell_type": "markdown",
   "metadata": {},
   "source": [
    "## YEMEK SİLME\n"
   ]
  },
  {
   "cell_type": "code",
   "execution_count": null,
   "metadata": {},
   "outputs": [],
   "source": [
    "import sqlite3\n",
    "\n",
    "# veritabanı bağlantısı oluştur\n",
    "conn = sqlite3.connect('yemekler.db')\n",
    "\n",
    "# kullanıcıdan silinecek yemek adını al\n",
    "silinacak_yemek = input(\"Silmek istediğiniz yemeğin adı: \")\n",
    "\n",
    "# yemekleri seç ve kullanıcının girdiği yemek adını içeren kayıtları bul\n",
    "cur = conn.cursor()\n",
    "cur.execute(\"SELECT * FROM yemekler WHERE isim = ?\", (silinacak_yemek,))\n",
    "rows = cur.fetchall()\n",
    "\n",
    "if len(rows) == 0:\n",
    "    print(\"Böyle bir yemek kaydı bulunamadı.\")\n",
    "else:\n",
    "    # bulunan kaydı sil\n",
    "    conn.execute(\"DELETE FROM yemekler WHERE isim = ?\", (silinacak_yemek,))\n",
    "    print(f\"{len(rows)} adet yemek kaydı silindi.\")\n",
    "\n",
    "# veritabanını kaydet ve bağlantıyı kapat\n",
    "conn.commit()\n",
    "conn.close()\n"
   ]
  }
 ],
 "metadata": {
  "language_info": {
   "name": "python"
  },
  "orig_nbformat": 4
 },
 "nbformat": 4,
 "nbformat_minor": 2
}
